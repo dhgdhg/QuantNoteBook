{
 "cells": [
  {
   "cell_type": "markdown",
   "metadata": {},
   "source": [
    "### 股票列\n",
    "- code : 股票的代码，上证股票以sh开头，深证股票以sz开头\n",
    "- date : 交易日期\n",
    "- open : 开盘价\n",
    "- high : 最高价\n",
    "- low : 最低价\n",
    "- close : 收盘价\n",
    "- change : 涨跌幅，复权之后的真实涨跌幅，保证准确\n",
    "- volume : 成交量\n",
    "- money : 成交额\n",
    "- traded_market_value : 流通市值\n",
    "- market_value : 总市值\n",
    "- turnover : 换手率，成交量/流通股本\n",
    "- adjust_price : 后复权价，复权开始时间为股票上市日，精确到小数点后10位\n",
    "- report_type : 最近一期财务报告的类型，3-31对应一季报，6-30对应半年报，9-30对应三季报，12-31对应年报\n",
    "- report_date : 最近一期财务报告实际发布的日期\n",
    "- PE_TTM : 最近12个月市盈率，股价 / 最近12个月归属母公司的每股收益TTM\n",
    "- PS_TTM : 最近12个月市销率， 股价 / 最近12个月每股营业收入\n",
    "- PC_TTM : 最近12个月市现率， 股价 / 最近12个月每股经营现金流\n",
    "- PB : 市净率，股价 / 最近期财报每股净资产\n",
    "- adjust_price_f : 前复权价，复权开始时间为股票最近一个交易日，精确到小数点后10位\n"
   ]
  },
  {
   "cell_type": "code",
   "execution_count": 4,
   "metadata": {},
   "outputs": [],
   "source": [
    "import pandas as pd\n",
    "\n",
    "# 从原始csv文件中导入股票数据，以浦发银行sh600000为例\n",
    "stock_data = pd.read_csv('Data/stock data/sh600000.csv', parse_dates=[1])"
   ]
  },
  {
   "cell_type": "code",
   "execution_count": 5,
   "metadata": {},
   "outputs": [],
   "source": [
    "# 导出到csv文件\n",
    "stock_data.to_csv('TmpData/01_sh600000_ma_ema.csv', index=False)"
   ]
  }
 ],
 "metadata": {
  "kernelspec": {
   "display_name": "Python 3",
   "language": "python",
   "name": "python3"
  },
  "language_info": {
   "codemirror_mode": {
    "name": "ipython",
    "version": 3
   },
   "file_extension": ".py",
   "mimetype": "text/x-python",
   "name": "python",
   "nbconvert_exporter": "python",
   "pygments_lexer": "ipython3",
   "version": "3.8.2"
  }
 },
 "nbformat": 4,
 "nbformat_minor": 2
}
